{
 "cells": [
  {
   "cell_type": "code",
   "execution_count": 1,
   "id": "969c65e7-48e0-4671-8d5b-38fd38517406",
   "metadata": {},
   "outputs": [],
   "source": [
    "# Python Basic"
   ]
  },
  {
   "cell_type": "code",
   "execution_count": 2,
   "id": "b97112c0-842b-4999-a280-16b497a73ed9",
   "metadata": {},
   "outputs": [
    {
     "name": "stdout",
     "output_type": "stream",
     "text": [
      "My name is RP\n"
     ]
    }
   ],
   "source": [
    "print('My name is RP')"
   ]
  },
  {
   "cell_type": "code",
   "execution_count": 3,
   "id": "6b1f0e0f-3b26-4573-888e-f63d1d2fcceb",
   "metadata": {},
   "outputs": [
    {
     "name": "stdout",
     "output_type": "stream",
     "text": [
      "Bengaluru\n"
     ]
    }
   ],
   "source": [
    "# create a string variable\n",
    "city_name = \"Bengaluru\"\n",
    "print(city_name)"
   ]
  },
  {
   "cell_type": "code",
   "execution_count": 4,
   "id": "86e7195f-687c-45fb-ab0d-04cf78c58230",
   "metadata": {},
   "outputs": [
    {
     "name": "stdout",
     "output_type": "stream",
     "text": [
      "City name is Bengaluru\n"
     ]
    }
   ],
   "source": [
    "print(f\"City name is {city_name}\")"
   ]
  },
  {
   "cell_type": "code",
   "execution_count": 5,
   "id": "c9de53d4-f815-4e9d-84f3-368f4a1d7707",
   "metadata": {},
   "outputs": [
    {
     "name": "stdout",
     "output_type": "stream",
     "text": [
      "Temp in Bengaluru right now is 25°C\n"
     ]
    }
   ],
   "source": [
    "temperature = 25\n",
    "print(f\"Temp in Bengaluru right now is {temperature}°C\")"
   ]
  },
  {
   "cell_type": "code",
   "execution_count": 6,
   "id": "07647132-0e86-4451-9b1a-cc53c22139ab",
   "metadata": {},
   "outputs": [
    {
     "name": "stdout",
     "output_type": "stream",
     "text": [
      "Carbon footprint:500.75 kgCO2\n"
     ]
    }
   ],
   "source": [
    "carbon_footprint = 500.75 # kgCO2\n",
    "print(f\"Carbon footprint:{carbon_footprint} kgCO2\")"
   ]
  },
  {
   "cell_type": "code",
   "execution_count": 7,
   "id": "d88188fd-d9dd-495d-a12d-b41d1d3864e9",
   "metadata": {},
   "outputs": [
    {
     "name": "stdout",
     "output_type": "stream",
     "text": [
      "Is the Bengaluru sustainable? False\n"
     ]
    }
   ],
   "source": [
    "# Create a boolean variable to indicate if the city is susatinable\n",
    "is_sustainable = carbon_footprint < 400\n",
    "\n",
    "print(f'Is the {city_name} sustainable? {is_sustainable}')\n"
   ]
  },
  {
   "cell_type": "code",
   "execution_count": 8,
   "id": "703cb4b6-4a54-43df-ade9-c6d426378b0b",
   "metadata": {},
   "outputs": [
    {
     "name": "stdout",
     "output_type": "stream",
     "text": [
      "Weekly Temparature: [23, 25, 27, 22, 25]\n"
     ]
    }
   ],
   "source": [
    "weekly_temp =[23, 25, 27, 22, 25]\n",
    "print(f'Weekly Temparature: {weekly_temp}')"
   ]
  },
  {
   "cell_type": "code",
   "execution_count": 9,
   "id": "2944dca2-ec27-48e5-bd15-dfc34345bfdc",
   "metadata": {},
   "outputs": [
    {
     "name": "stdout",
     "output_type": "stream",
     "text": [
      "City data: {'name': 'Bengaluru', 'temperature': 27, 'carbon_footprint': 500.75, 'is_sustainable': False}\n"
     ]
    }
   ],
   "source": [
    "# create a dictionary to store city data\n",
    "city_data = {\n",
    "    \"name\":\"Bengaluru\", \n",
    "    \"temperature\": 27,\n",
    "    \"carbon_footprint\": 500.75,\n",
    "    \"is_sustainable\":False\n",
    "}\n",
    "\n",
    "# print the dictionary\n",
    "print(f\"City data: {city_data}\")"
   ]
  },
  {
   "cell_type": "code",
   "execution_count": 10,
   "id": "1cb06628-30a3-4038-b7c7-4028e08cbe90",
   "metadata": {},
   "outputs": [
    {
     "name": "stdout",
     "output_type": "stream",
     "text": [
      "city is Mysore, Temperature is 30, Carbon footprint is 308\n"
     ]
    }
   ],
   "source": [
    "city_name, temperature, carbob_footprint = \"Mysore\", 30, 308\n",
    "print(f\"city is {city_name}, Temperature is {temperature}, Carbon footprint is {carbob_footprint}\")"
   ]
  },
  {
   "cell_type": "markdown",
   "id": "f78ca50c-4376-4215-adc7-f50ae1ab35e0",
   "metadata": {},
   "source": [
    "## Control Structures"
   ]
  },
  {
   "cell_type": "code",
   "execution_count": 11,
   "id": "055605e8-4d5e-4fd7-bf5a-ef8ee74f1317",
   "metadata": {},
   "outputs": [
    {
     "name": "stdout",
     "output_type": "stream",
     "text": [
      "Cities with high temperature(> 26°C\n",
      "C - 28 °C\n"
     ]
    }
   ],
   "source": [
    "# sample climate datset\n",
    "climate_data = [\n",
    "    {\"city\":\"A\", \"temperature\":25, \"carbon_footprint\":500},\n",
    "    {\"city\":\"B\", \"temperature\":26, \"carbon_footprint\":540},\n",
    "    {\"city\":\"C\", \"temperature\":28, \"carbon_footprint\":550},\n",
    "    {\"city\":\"D\", \"temperature\":20, \"carbon_footprint\":400},\n",
    "    {\"city\":\"E\", \"temperature\":23, \"carbon_footprint\":200}\n",
    "]\n",
    "\n",
    "# High temperature threshold\n",
    "high_temp_thresh = 26\n",
    "\n",
    "high_temp_cities = [city for city in climate_data if city['temperature'] > high_temp_thresh]\n",
    "\n",
    "#print the result\n",
    "print('Cities with high temperature(> 26°C')\n",
    "for city in high_temp_cities:\n",
    "    print(f\"{city['city']} - {city['temperature']} °C\")"
   ]
  },
  {
   "cell_type": "code",
   "execution_count": 12,
   "id": "8386e384-24ec-4d7c-bbcf-dccfd0bc6cfe",
   "metadata": {},
   "outputs": [
    {
     "data": {
      "text/plain": [
       "'Mysore'"
      ]
     },
     "execution_count": 12,
     "metadata": {},
     "output_type": "execute_result"
    }
   ],
   "source": [
    "city_name"
   ]
  },
  {
   "cell_type": "markdown",
   "id": "17e8ec1d-6277-49a4-b143-0989429b4d96",
   "metadata": {},
   "source": [
    "## Use loops to cal. avg carbon footprint"
   ]
  },
  {
   "cell_type": "code",
   "execution_count": 14,
   "id": "a7196a3a-ec94-4681-aa00-4c35afbc4d49",
   "metadata": {},
   "outputs": [
    {
     "name": "stdout",
     "output_type": "stream",
     "text": [
      "\n",
      " Average Carbon Footprint:  438.00 kg CO2\n"
     ]
    }
   ],
   "source": [
    "total_carbon = 0\n",
    "\n",
    "for city in climate_data:\n",
    "    total_carbon = total_carbon + city[\"carbon_footprint\"]\n",
    "\n",
    "avg_carbon_footprint = total_carbon / len(climate_data)\n",
    "print(f\"\\n Average Carbon Footprint: {avg_carbon_footprint: .2f} kg CO2\")"
   ]
  },
  {
   "cell_type": "markdown",
   "id": "b74233e0-7816-4f50-99f1-fdd8ee5f607e",
   "metadata": {},
   "source": [
    "## Filter & Manipulate dat to fnd sustainable cities"
   ]
  },
  {
   "cell_type": "code",
   "execution_count": 16,
   "id": "1ff38fec-11d9-4e00-935c-51d45839cc5f",
   "metadata": {},
   "outputs": [
    {
     "name": "stdout",
     "output_type": "stream",
     "text": [
      "Sustainable cities (carbon footprint < 400 kg CO2): \n",
      "E - 200 kg CO2\n"
     ]
    }
   ],
   "source": [
    "# Setting the threshold for 400 kg CO2\n",
    "sustainability_threshold = 400\n",
    "\n",
    "sustainable_cities = list(filter(lambda city: city['carbon_footprint'] < sustainability_threshold, climate_data))\n",
    "\n",
    "print(\"Sustainable cities (carbon footprint < 400 kg CO2): \")\n",
    "for city in sustainable_cities:\n",
    "    print(f\"{city['city']} - {city['carbon_footprint']} kg CO2\")"
   ]
  },
  {
   "cell_type": "markdown",
   "id": "cb0189f1-7d5b-415d-8421-f7d767cf6608",
   "metadata": {},
   "source": [
    "## Analyse data to find the city with the highest carboon footprint"
   ]
  },
  {
   "cell_type": "code",
   "execution_count": 17,
   "id": "9c3c2dc9-e0dd-49a9-87f2-a461bd30fe76",
   "metadata": {},
   "outputs": [
    {
     "name": "stdout",
     "output_type": "stream",
     "text": [
      "City with the highest cf is: \n",
      "C - 550 kg CO2\n"
     ]
    }
   ],
   "source": [
    "highest_cf_city = max(climate_data, key=lambda city: city['carbon_footprint'])\n",
    "print('City with the highest cf is: ')\n",
    "print(f'{highest_cf_city['city']} - {highest_cf_city['carbon_footprint']} kg CO2')"
   ]
  },
  {
   "cell_type": "markdown",
   "id": "cafe6e56-9076-4147-b94a-3c6d15c74827",
   "metadata": {},
   "source": [
    "## Implementation of Functions"
   ]
  },
  {
   "cell_type": "code",
   "execution_count": 18,
   "id": "f2292bbf-528a-4415-8e8d-62876b9cb55d",
   "metadata": {},
   "outputs": [],
   "source": [
    "def calculate_carbon_footprint(energy_consumption, emission_factor):\n",
    "    '''\n",
    "    this fnction calculates the carbon fp based on ec and ef\n",
    "    '''\n",
    "    return energy_consumption * emission_factor"
   ]
  },
  {
   "cell_type": "code",
   "execution_count": 19,
   "id": "739c9ff1-482e-4387-b01f-579966f6c51a",
   "metadata": {},
   "outputs": [
    {
     "name": "stdout",
     "output_type": "stream",
     "text": [
      "Carbon Footprint: 475.0 kg CO2\n"
     ]
    }
   ],
   "source": [
    "energy_consumption = 1000\n",
    "emission_factor = 0.475\n",
    "\n",
    "carbob_footprint = calculate_carbon_footprint(energy_consumption, emission_factor)\n",
    "print(f\"Carbon Footprint: {carbob_footprint} kg CO2\")"
   ]
  },
  {
   "cell_type": "code",
   "execution_count": 20,
   "id": "204ed720-d208-4a56-8e88-feecba8329d9",
   "metadata": {},
   "outputs": [
    {
     "name": "stdout",
     "output_type": "stream",
     "text": [
      "Sustainable Cities:\n",
      "City B\n",
      "City D\n"
     ]
    }
   ],
   "source": [
    "# List of cities with their carbon footprints in tons CO2 per month\n",
    "cities = [\n",
    "    {\"name\": \"City A\", \"carbon_footprint\": 500},\n",
    "    {\"name\": \"City B\", \"carbon_footprint\": 350},\n",
    "    {\"name\": \"City C\", \"carbon_footprint\": 600},\n",
    "    {\"name\": \"City D\", \"carbon_footprint\": 200},\n",
    "]\n",
    " \n",
    "# Lambda function to filter cities below the threshold (400 ton CO2)\n",
    "sustainability_threshold = 400\n",
    "sustainable_cities = list(filter(lambda city: city[\"carbon_footprint\"] < sustainability_threshold, cities))\n",
    " \n",
    "# Printing the filtered list of sustainable cities\n",
    "print(\"Sustainable Cities:\")\n",
    "for city in sustainable_cities:\n",
    "    print(city[\"name\"])"
   ]
  },
  {
   "cell_type": "markdown",
   "id": "1a285282-6676-4d9d-8a68-1dcd806a70de",
   "metadata": {},
   "source": [
    "## Class Def (Energy System)"
   ]
  },
  {
   "cell_type": "code",
   "execution_count": 21,
   "id": "c7bea85c-0063-4a38-8c9d-2732baa7f896",
   "metadata": {},
   "outputs": [
    {
     "name": "stdout",
     "output_type": "stream",
     "text": [
      "Building A:5000 kWh, 0.45 kg CO2/kWh\n"
     ]
    }
   ],
   "source": [
    "#  define the energy class system\n",
    "class EnergySystem:\n",
    "    def __init__(self, building_name, energy_consumption, emission_factor):\n",
    "        #Initialize the attributes\n",
    "        self.building_name = building_name\n",
    "        self.energy_consumption = energy_consumption  #in kWh\n",
    "        self.emission_factor = emission_factor   # kg CO2 per kWh\n",
    "building = EnergySystem(\"Building A\", 5000, 0.45)\n",
    "print(f\"{building.building_name}:{building.energy_consumption} kWh, {building.emission_factor} kg CO2/kWh\")"
   ]
  },
  {
   "cell_type": "code",
   "execution_count": 26,
   "id": "d15326ec-1017-4c80-9d6c-5fe1a6e9780a",
   "metadata": {},
   "outputs": [
    {
     "name": "stdout",
     "output_type": "stream",
     "text": [
      "Carbon footprint is 2250.0 kg CO2 and Energy savings is 500.0 kWh\n"
     ]
    }
   ],
   "source": [
    "class EnergySystem:\n",
    "    def __init__(self, building_name, energy_consumption, emission_factor):\n",
    "        #Initialize the attributes\n",
    "        self.building_name = building_name\n",
    "        self.energy_consumption = energy_consumption  #in kWh\n",
    "        self.emission_factor = emission_factor   # kg CO2 per kWh\n",
    "    def calculate_cf(self):\n",
    "        return self.energy_consumption * self.emission_factor\n",
    "\n",
    "    def calculate_es(self):\n",
    "        return self.energy_consumption * 0.10  # 10% saving\n",
    "building = EnergySystem(\"Building A\", 5000, 0.45)\n",
    "carbon_fp = building.calculate_cf()\n",
    "energy_savings = building.calculate_es()\n",
    "print(f\"Carbon footprint is {carbon_fp} kg CO2 and Energy savings is {energy_savings} kWh\")"
   ]
  },
  {
   "cell_type": "markdown",
   "id": "246f6833-3c5e-4c8a-97fa-941c0c6d688a",
   "metadata": {},
   "source": [
    "## Inheritance"
   ]
  },
  {
   "cell_type": "code",
   "execution_count": 27,
   "id": "c5dd30b2-53c7-40fd-96bd-8cbb41ac2c89",
   "metadata": {},
   "outputs": [
    {
     "name": "stdout",
     "output_type": "stream",
     "text": [
      "Net Energy Consumption: 3500 kWh\n"
     ]
    }
   ],
   "source": [
    "class SolarEnergySystem(EnergySystem):\n",
    "    def __init__(self, building_name, energy_consumption, emission_factor, solar_production):\n",
    "        super().__init__(building_name, energy_consumption, emission_factor)\n",
    "        self.solar_production = solar_production   # kWh\n",
    "\n",
    "    def net_energy_consumption(self):\n",
    "        return self.energy_consumption - self.solar_production\n",
    "\n",
    "solar_building = SolarEnergySystem(\"Solar Building\", 5000, 0.45, 1500)\n",
    "net_consumption = solar_building.net_energy_consumption()\n",
    "print(f\"Net Energy Consumption: {net_consumption} kWh\")"
   ]
  },
  {
   "cell_type": "markdown",
   "id": "6680d968-272f-4f41-876b-24ba8f3e2e93",
   "metadata": {},
   "source": [
    "## Encapsulation (Protecting attributes)"
   ]
  },
  {
   "cell_type": "code",
   "execution_count": 29,
   "id": "6f835aed-00dd-4f75-8a9a-1af2a4ff3d4e",
   "metadata": {},
   "outputs": [
    {
     "name": "stdout",
     "output_type": "stream",
     "text": [
      "Energy consumption (accessed via method): 5000 kWh\n"
     ]
    }
   ],
   "source": [
    "class EnergySystem:\n",
    "    def __init__(self, building_name, energy_consumption, emission_factor):\n",
    "        #Initialize the attributes\n",
    "        self.building_name = building_name\n",
    "        self._energy_consumption = energy_consumption  #in kWh\n",
    "        self._emission_factor = emission_factor   # kg CO2 per kWh\n",
    "    # method to access energy consumption safely\n",
    "    def get_energy_consumption(self):\n",
    "        return self._energy_consumption\n",
    "    #method to calculaye carbon ft\n",
    "    def calculate_cf(self):\n",
    "        return self._energy_consumption * self._emission_factor\n",
    "building = EnergySystem(\"Building A\", 5000, 0.45)\n",
    "print(f\"Energy consumption (accessed via method): {building.get_energy_consumption()} kWh\")"
   ]
  },
  {
   "cell_type": "markdown",
   "id": "6e36e117-b465-4ec8-8468-1a7a18fc4160",
   "metadata": {},
   "source": [
    "## Polymorphism"
   ]
  },
  {
   "cell_type": "code",
   "execution_count": 31,
   "id": "e9e707e3-7fd2-448a-b2e3-7508b330f86c",
   "metadata": {},
   "outputs": [
    {
     "name": "stdout",
     "output_type": "stream",
     "text": [
      "Adjusted carbon foorprint (after solar production):  475.00 kg CO2\n"
     ]
    }
   ],
   "source": [
    "# Subclass SolarEnergySystem overiding the carbon fp method\n",
    "class SolarEnergySystem(EnergySystem):\n",
    "    def __init__(self, building_name, energy_consumption, emission_factor, solar_production):\n",
    "        super().__init__(building_name, energy_consumption, emission_factor)\n",
    "        self.solar_production = solar_production   # kWh \n",
    "    # Ovriding the carbon fp method to account for solar production\n",
    "    def calculate_cf(self):\n",
    "        net_consumption = self._energy_consumption - self.solar_production\n",
    "        return net_consumption * self._emission_factor\n",
    "solar_building = SolarEnergySystem(\"Solar Building\", 5000, 0.45, 1500)\n",
    "carbon_fp = solar_building.calculate_cf()\n",
    "print(f'Adjusted carbon foorprint (after solar production): {carbob_footprint: .2f} kg CO2')"
   ]
  },
  {
   "cell_type": "code",
   "execution_count": null,
   "id": "496eef0c-aa14-4bb0-8dcc-ee0de299dc9f",
   "metadata": {},
   "outputs": [],
   "source": []
  }
 ],
 "metadata": {
  "kernelspec": {
   "display_name": "Python 3 (ipykernel)",
   "language": "python",
   "name": "python3"
  },
  "language_info": {
   "codemirror_mode": {
    "name": "ipython",
    "version": 3
   },
   "file_extension": ".py",
   "mimetype": "text/x-python",
   "name": "python",
   "nbconvert_exporter": "python",
   "pygments_lexer": "ipython3",
   "version": "3.13.2"
  }
 },
 "nbformat": 4,
 "nbformat_minor": 5
}
