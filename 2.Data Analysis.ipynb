{
 "cells": [
  {
   "cell_type": "code",
   "execution_count": 1,
   "id": "d74ec56c-04de-4780-8169-3f76985e32b8",
   "metadata": {},
   "outputs": [
    {
     "data": {
      "text/plain": [
       "['India', 1947, 'Delhi', 200]"
      ]
     },
     "execution_count": 1,
     "metadata": {},
     "output_type": "execute_result"
    }
   ],
   "source": [
    "x = [\"India\", 1947, \"Delhi\", 200]\n",
    "x"
   ]
  },
  {
   "cell_type": "code",
   "execution_count": 9,
   "id": "e5377a3f-a996-417c-b62a-24b75c28091a",
   "metadata": {},
   "outputs": [
    {
     "data": {
      "text/plain": [
       "['__add__',\n",
       " '__class__',\n",
       " '__class_getitem__',\n",
       " '__contains__',\n",
       " '__delattr__',\n",
       " '__delitem__',\n",
       " '__dir__',\n",
       " '__doc__',\n",
       " '__eq__',\n",
       " '__format__',\n",
       " '__ge__',\n",
       " '__getattribute__',\n",
       " '__getitem__',\n",
       " '__getstate__',\n",
       " '__gt__',\n",
       " '__hash__',\n",
       " '__iadd__',\n",
       " '__imul__',\n",
       " '__init__',\n",
       " '__init_subclass__',\n",
       " '__iter__',\n",
       " '__le__',\n",
       " '__len__',\n",
       " '__lt__',\n",
       " '__mul__',\n",
       " '__ne__',\n",
       " '__new__',\n",
       " '__reduce__',\n",
       " '__reduce_ex__',\n",
       " '__repr__',\n",
       " '__reversed__',\n",
       " '__rmul__',\n",
       " '__setattr__',\n",
       " '__setitem__',\n",
       " '__sizeof__',\n",
       " '__str__',\n",
       " '__subclasshook__',\n",
       " 'append',\n",
       " 'clear',\n",
       " 'copy',\n",
       " 'count',\n",
       " 'extend',\n",
       " 'index',\n",
       " 'insert',\n",
       " 'pop',\n",
       " 'remove',\n",
       " 'reverse',\n",
       " 'sort']"
      ]
     },
     "execution_count": 9,
     "metadata": {},
     "output_type": "execute_result"
    }
   ],
   "source": [
    "dir(list)"
   ]
  },
  {
   "cell_type": "code",
   "execution_count": 10,
   "id": "c3e9e23c-bb9e-4542-98c7-b47b261b686d",
   "metadata": {},
   "outputs": [
    {
     "data": {
      "text/plain": [
       "['Karnataka',\n",
       " 'Independence',\n",
       " 'Karnataka',\n",
       " 200,\n",
       " 'Delhi',\n",
       " 1947,\n",
       " 'India',\n",
       " 'Independence',\n",
       " 'Independent',\n",
       " 'karnataka']"
      ]
     },
     "execution_count": 10,
     "metadata": {},
     "output_type": "execute_result"
    }
   ],
   "source": [
    "x.append(\"karnataka\")\n",
    "x"
   ]
  },
  {
   "cell_type": "code",
   "execution_count": 11,
   "id": "4fba6381-5cc7-4642-acb7-62889c161480",
   "metadata": {},
   "outputs": [
    {
     "data": {
      "text/plain": [
       "19"
      ]
     },
     "execution_count": 11,
     "metadata": {},
     "output_type": "execute_result"
    }
   ],
   "source": [
    "# strip cases\n",
    "y = \"19M\"\n",
    "a = y.rstrip(\"M\")\n",
    "int(a)"
   ]
  },
  {
   "cell_type": "code",
   "execution_count": 12,
   "id": "8a3f3971-72e6-4ffc-a919-63bdef70ddf8",
   "metadata": {},
   "outputs": [
    {
     "data": {
      "text/plain": [
       "200"
      ]
     },
     "execution_count": 12,
     "metadata": {},
     "output_type": "execute_result"
    }
   ],
   "source": [
    "x[3]"
   ]
  },
  {
   "cell_type": "code",
   "execution_count": 13,
   "id": "7627a262-5e3c-4260-acf6-6b1f6f74a442",
   "metadata": {},
   "outputs": [
    {
     "data": {
      "text/plain": [
       "['Independence', 'Karnataka']"
      ]
     },
     "execution_count": 13,
     "metadata": {},
     "output_type": "execute_result"
    }
   ],
   "source": [
    "x[1:3]"
   ]
  },
  {
   "cell_type": "code",
   "execution_count": 14,
   "id": "da279a29-5079-4b7b-ad41-c468dcaaa52c",
   "metadata": {},
   "outputs": [
    {
     "data": {
      "text/plain": [
       "10"
      ]
     },
     "execution_count": 14,
     "metadata": {},
     "output_type": "execute_result"
    }
   ],
   "source": [
    "len(x)"
   ]
  },
  {
   "cell_type": "code",
   "execution_count": 18,
   "id": "bfcdda68-0b3e-481f-85de-a41efec04cd1",
   "metadata": {},
   "outputs": [
    {
     "data": {
      "text/plain": [
       "('RP', 12, 'Mysuru')"
      ]
     },
     "execution_count": 18,
     "metadata": {},
     "output_type": "execute_result"
    }
   ],
   "source": [
    "t = (\"RP\", 12, \"Mysuru\")\n",
    "t"
   ]
  },
  {
   "cell_type": "code",
   "execution_count": 19,
   "id": "1fbd42dd-b584-4268-9b98-560b5930126e",
   "metadata": {},
   "outputs": [
    {
     "data": {
      "text/plain": [
       "{'id': 101, 'name': 'India', 'Age': 200, 'City': 'Delhi'}"
      ]
     },
     "execution_count": 19,
     "metadata": {},
     "output_type": "execute_result"
    }
   ],
   "source": [
    "# Dictionary - Key:Value\n",
    "d1 = {\"id\":101, \"name\": \"India\", \"Age\": 200, \"City\":\"Delhi\"}\n",
    "d1"
   ]
  },
  {
   "cell_type": "code",
   "execution_count": 20,
   "id": "47e9586c-3d30-483c-826d-d481de7ee26c",
   "metadata": {},
   "outputs": [
    {
     "data": {
      "text/plain": [
       "'India'"
      ]
     },
     "execution_count": 20,
     "metadata": {},
     "output_type": "execute_result"
    }
   ],
   "source": [
    "d1['name']"
   ]
  },
  {
   "cell_type": "code",
   "execution_count": 21,
   "id": "d6fc8d96-3b6f-419b-8a87-59dbb2919303",
   "metadata": {},
   "outputs": [
    {
     "data": {
      "text/plain": [
       "'India'"
      ]
     },
     "execution_count": 21,
     "metadata": {},
     "output_type": "execute_result"
    }
   ],
   "source": [
    "d1.get('name')"
   ]
  },
  {
   "cell_type": "code",
   "execution_count": 23,
   "id": "7b8d8388-e3c4-4733-84c0-087c439c88c6",
   "metadata": {},
   "outputs": [],
   "source": [
    "del d1[\"City\"]"
   ]
  },
  {
   "cell_type": "code",
   "execution_count": 24,
   "id": "38181b26-c8bc-493f-8e55-137be01e3524",
   "metadata": {},
   "outputs": [
    {
     "data": {
      "text/plain": [
       "{'id': 101, 'name': 'India', 'Age': 200}"
      ]
     },
     "execution_count": 24,
     "metadata": {},
     "output_type": "execute_result"
    }
   ],
   "source": [
    "d1"
   ]
  },
  {
   "cell_type": "code",
   "execution_count": 25,
   "id": "ee8291e7-2890-4775-b8cd-572b831d0a92",
   "metadata": {},
   "outputs": [],
   "source": [
    "s1 = {1,2,3,5,6,7,8}\n",
    "s2 = {4,5,3,12}\n"
   ]
  },
  {
   "cell_type": "code",
   "execution_count": 26,
   "id": "0c5837bf-081c-46c9-b2b5-348df68a0f4b",
   "metadata": {},
   "outputs": [
    {
     "data": {
      "text/plain": [
       "{1, 2, 3, 4, 5, 6, 7, 8, 12}"
      ]
     },
     "execution_count": 26,
     "metadata": {},
     "output_type": "execute_result"
    }
   ],
   "source": [
    "s1.union(s2)"
   ]
  },
  {
   "cell_type": "code",
   "execution_count": 27,
   "id": "845176cb-c736-45fc-b649-fc68e9a883e6",
   "metadata": {},
   "outputs": [
    {
     "data": {
      "text/plain": [
       "{3, 5}"
      ]
     },
     "execution_count": 27,
     "metadata": {},
     "output_type": "execute_result"
    }
   ],
   "source": [
    "s1.intersection(s2)"
   ]
  },
  {
   "cell_type": "code",
   "execution_count": 30,
   "id": "6ef25e10-bf59-4a29-9fab-eb340fc9b60f",
   "metadata": {},
   "outputs": [
    {
     "data": {
      "text/plain": [
       "[14, 56, 72, 90]"
      ]
     },
     "execution_count": 30,
     "metadata": {},
     "output_type": "execute_result"
    }
   ],
   "source": [
    "# List Comprehension - without\n",
    "data = [23,14,56,72,90]\n",
    "new_data = []\n",
    "for x in data:\n",
    "    if x%2==0:\n",
    "        new_data.append(x)\n",
    "new_data"
   ]
  },
  {
   "cell_type": "code",
   "execution_count": 31,
   "id": "8e1b1dd6-2b6f-4cac-88a8-dcf71ac6dc20",
   "metadata": {},
   "outputs": [
    {
     "data": {
      "text/plain": [
       "[14, 56, 72, 90]"
      ]
     },
     "execution_count": 31,
     "metadata": {},
     "output_type": "execute_result"
    }
   ],
   "source": [
    "# If List Comprehension used\n",
    "data1 = [x for x in data if x%2==0]\n",
    "data1"
   ]
  },
  {
   "cell_type": "code",
   "execution_count": 32,
   "id": "9a7c6a58-ed05-42d7-88d7-e9e44c2245f1",
   "metadata": {},
   "outputs": [
    {
     "name": "stdout",
     "output_type": "stream",
     "text": [
      "Requirement already satisfied: pandas in c:\\users\\rohit\\appdata\\local\\programs\\python\\python313\\lib\\site-packages (2.2.3)Note: you may need to restart the kernel to use updated packages.\n",
      "\n",
      "Requirement already satisfied: numpy in c:\\users\\rohit\\appdata\\local\\programs\\python\\python313\\lib\\site-packages (2.1.3)\n",
      "Requirement already satisfied: matplotlib in c:\\users\\rohit\\appdata\\local\\programs\\python\\python313\\lib\\site-packages (3.9.3)\n",
      "Collecting seaborn\n",
      "  Downloading seaborn-0.13.2-py3-none-any.whl.metadata (5.4 kB)\n",
      "Requirement already satisfied: python-dateutil>=2.8.2 in c:\\users\\rohit\\appdata\\local\\programs\\python\\python313\\lib\\site-packages (from pandas) (2.9.0.post0)\n",
      "Requirement already satisfied: pytz>=2020.1 in c:\\users\\rohit\\appdata\\local\\programs\\python\\python313\\lib\\site-packages (from pandas) (2024.2)\n",
      "Requirement already satisfied: tzdata>=2022.7 in c:\\users\\rohit\\appdata\\local\\programs\\python\\python313\\lib\\site-packages (from pandas) (2024.2)\n",
      "Requirement already satisfied: contourpy>=1.0.1 in c:\\users\\rohit\\appdata\\local\\programs\\python\\python313\\lib\\site-packages (from matplotlib) (1.3.1)\n",
      "Requirement already satisfied: cycler>=0.10 in c:\\users\\rohit\\appdata\\local\\programs\\python\\python313\\lib\\site-packages (from matplotlib) (0.12.1)\n",
      "Requirement already satisfied: fonttools>=4.22.0 in c:\\users\\rohit\\appdata\\local\\programs\\python\\python313\\lib\\site-packages (from matplotlib) (4.55.1)\n",
      "Requirement already satisfied: kiwisolver>=1.3.1 in c:\\users\\rohit\\appdata\\local\\programs\\python\\python313\\lib\\site-packages (from matplotlib) (1.4.7)\n",
      "Requirement already satisfied: packaging>=20.0 in c:\\users\\rohit\\appdata\\local\\programs\\python\\python313\\lib\\site-packages (from matplotlib) (24.2)\n",
      "Requirement already satisfied: pillow>=8 in c:\\users\\rohit\\appdata\\local\\programs\\python\\python313\\lib\\site-packages (from matplotlib) (11.0.0)\n",
      "Requirement already satisfied: pyparsing>=2.3.1 in c:\\users\\rohit\\appdata\\local\\programs\\python\\python313\\lib\\site-packages (from matplotlib) (3.2.0)\n",
      "Requirement already satisfied: six>=1.5 in c:\\users\\rohit\\appdata\\local\\programs\\python\\python313\\lib\\site-packages (from python-dateutil>=2.8.2->pandas) (1.16.0)\n",
      "Downloading seaborn-0.13.2-py3-none-any.whl (294 kB)\n",
      "Installing collected packages: seaborn\n",
      "Successfully installed seaborn-0.13.2\n"
     ]
    },
    {
     "name": "stderr",
     "output_type": "stream",
     "text": [
      "\n",
      "[notice] A new release of pip is available: 24.3.1 -> 25.0.1\n",
      "[notice] To update, run: python.exe -m pip install --upgrade pip\n"
     ]
    }
   ],
   "source": [
    "pip install pandas numpy matplotlib seaborn"
   ]
  },
  {
   "cell_type": "code",
   "execution_count": 1,
   "id": "4afc9669-7314-4a1b-a108-578190a2d49e",
   "metadata": {},
   "outputs": [],
   "source": [
    "import numpy as np"
   ]
  },
  {
   "cell_type": "code",
   "execution_count": 2,
   "id": "70681ef5-6220-467a-a45f-2aad46f6d006",
   "metadata": {},
   "outputs": [
    {
     "data": {
      "text/plain": [
       "np.float64(51.0)"
      ]
     },
     "execution_count": 2,
     "metadata": {},
     "output_type": "execute_result"
    }
   ],
   "source": [
    "data = [23,14,56,72,90]\n",
    "np.mean(data)"
   ]
  },
  {
   "cell_type": "code",
   "execution_count": 3,
   "id": "604e54d8-bfe7-450e-a9d4-a883d1d61186",
   "metadata": {},
   "outputs": [
    {
     "data": {
      "text/plain": [
       "np.int64(90)"
      ]
     },
     "execution_count": 3,
     "metadata": {},
     "output_type": "execute_result"
    }
   ],
   "source": [
    "np.max(data)"
   ]
  },
  {
   "cell_type": "code",
   "execution_count": 4,
   "id": "5e234b42-3c57-43c3-8935-5a0862fab488",
   "metadata": {},
   "outputs": [],
   "source": [
    "a = [1,3,5,6]\n",
    "b = [4,5,6,7]\n",
    "arr1 = np.array(a)\n",
    "arr2 = np.array(b)"
   ]
  },
  {
   "cell_type": "code",
   "execution_count": 5,
   "id": "2c5f453c-5eb8-4c80-b269-1512ddb981d5",
   "metadata": {},
   "outputs": [
    {
     "data": {
      "text/plain": [
       "array([1, 3, 5, 6])"
      ]
     },
     "execution_count": 5,
     "metadata": {},
     "output_type": "execute_result"
    }
   ],
   "source": [
    "arr1"
   ]
  },
  {
   "cell_type": "code",
   "execution_count": 6,
   "id": "b5b85731-2c9a-4d33-8ed5-b7ad8c3ca73e",
   "metadata": {},
   "outputs": [
    {
     "data": {
      "text/plain": [
       "array([4, 5, 6, 7])"
      ]
     },
     "execution_count": 6,
     "metadata": {},
     "output_type": "execute_result"
    }
   ],
   "source": [
    "arr2"
   ]
  },
  {
   "cell_type": "code",
   "execution_count": 7,
   "id": "07428b13-7233-4822-89cd-93b0df7e8677",
   "metadata": {},
   "outputs": [
    {
     "data": {
      "text/plain": [
       "array([ 4, 15, 30, 42])"
      ]
     },
     "execution_count": 7,
     "metadata": {},
     "output_type": "execute_result"
    }
   ],
   "source": [
    "arr1 * arr2"
   ]
  },
  {
   "cell_type": "code",
   "execution_count": 8,
   "id": "91335969-9b45-45e6-a7ec-6e0e21c13ea3",
   "metadata": {},
   "outputs": [
    {
     "data": {
      "text/plain": [
       "dtype('int64')"
      ]
     },
     "execution_count": 8,
     "metadata": {},
     "output_type": "execute_result"
    }
   ],
   "source": [
    "arr1.shape\n",
    "arr1.ndim\n",
    "arr1.dtype"
   ]
  },
  {
   "cell_type": "code",
   "execution_count": 10,
   "id": "4eedc8f9-f433-4394-937f-0e9f037b8991",
   "metadata": {},
   "outputs": [
    {
     "data": {
      "text/plain": [
       "array([[1, 2, 3],\n",
       "       [4, 5, 6],\n",
       "       [7, 8, 9]])"
      ]
     },
     "execution_count": 10,
     "metadata": {},
     "output_type": "execute_result"
    }
   ],
   "source": [
    "arr3 = np.array([[1,2,3], [4,5,6], [7,8,9]])\n",
    "arr3"
   ]
  },
  {
   "cell_type": "code",
   "execution_count": 11,
   "id": "143bc471-7ab2-4c04-9177-d216b98db4de",
   "metadata": {},
   "outputs": [
    {
     "data": {
      "text/plain": [
       "2"
      ]
     },
     "execution_count": 11,
     "metadata": {},
     "output_type": "execute_result"
    }
   ],
   "source": [
    "arr3.ndim"
   ]
  },
  {
   "cell_type": "code",
   "execution_count": 13,
   "id": "392b045f-8931-48d6-8cb8-a3909828eeba",
   "metadata": {},
   "outputs": [
    {
     "data": {
      "text/plain": [
       "array([0, 1, 2, 3, 4, 5, 6, 7, 8, 9])"
      ]
     },
     "execution_count": 13,
     "metadata": {},
     "output_type": "execute_result"
    }
   ],
   "source": [
    "np.arange(0,10,1)"
   ]
  },
  {
   "cell_type": "code",
   "execution_count": 14,
   "id": "10fa4228-1ab5-4b08-8217-2e1fd090966c",
   "metadata": {},
   "outputs": [
    {
     "data": {
      "text/plain": [
       "array([10,  9,  8,  7,  6,  5,  4,  3,  2])"
      ]
     },
     "execution_count": 14,
     "metadata": {},
     "output_type": "execute_result"
    }
   ],
   "source": [
    "np.arange(10,1,-1)"
   ]
  },
  {
   "cell_type": "code",
   "execution_count": 15,
   "id": "48aa3f47-3050-42c5-b014-e43ca0de372c",
   "metadata": {},
   "outputs": [
    {
     "data": {
      "text/plain": [
       "array([79, 90, 46, 39, 31], dtype=int32)"
      ]
     },
     "execution_count": 15,
     "metadata": {},
     "output_type": "execute_result"
    }
   ],
   "source": [
    "np.random.randint(10,100,5)"
   ]
  },
  {
   "cell_type": "code",
   "execution_count": 16,
   "id": "d485b07f-0bd5-4378-8da4-e77dbe4cba12",
   "metadata": {},
   "outputs": [
    {
     "data": {
      "text/plain": [
       "array([84.16563993, 84.95090421, 73.22149234, 41.83046804, 66.49497474,\n",
       "       23.78707832, 44.80476488, 22.01756024, 16.53917806, 13.34045296])"
      ]
     },
     "execution_count": 16,
     "metadata": {},
     "output_type": "execute_result"
    }
   ],
   "source": [
    "np.random.uniform(10,100,10)"
   ]
  },
  {
   "cell_type": "code",
   "execution_count": 17,
   "id": "fd03eb24-8d71-4d5d-8e72-00ae5d8abd35",
   "metadata": {},
   "outputs": [
    {
     "data": {
      "text/plain": [
       "array([0.70266477, 0.64976232, 0.46424436, 0.64660082, 0.87476019,\n",
       "       0.76823216, 0.01290666, 0.07357239, 0.81690698, 0.96467046])"
      ]
     },
     "execution_count": 17,
     "metadata": {},
     "output_type": "execute_result"
    }
   ],
   "source": [
    "np.random.rand(10)"
   ]
  },
  {
   "cell_type": "code",
   "execution_count": 18,
   "id": "aa045147-4dba-4157-a041-1e3c8c62ac36",
   "metadata": {},
   "outputs": [
    {
     "data": {
      "text/plain": [
       "array([[60, 26, 85],\n",
       "       [54, 66, 48],\n",
       "       [86, 27, 44],\n",
       "       [94, 56, 54]], dtype=int32)"
      ]
     },
     "execution_count": 18,
     "metadata": {},
     "output_type": "execute_result"
    }
   ],
   "source": [
    "np.random.randint(10,100,12).reshape(4,3)"
   ]
  },
  {
   "cell_type": "code",
   "execution_count": 19,
   "id": "0084e48b-2ddc-4cf7-a6b6-891c29cdfae4",
   "metadata": {},
   "outputs": [
    {
     "data": {
      "text/plain": [
       "np.float64(45.0)"
      ]
     },
     "execution_count": 19,
     "metadata": {},
     "output_type": "execute_result"
    }
   ],
   "source": [
    "r =45.7\n",
    "np.floor(r)"
   ]
  },
  {
   "cell_type": "code",
   "execution_count": 20,
   "id": "0b5698f9-556e-4e92-9c39-86c31667acac",
   "metadata": {},
   "outputs": [
    {
     "data": {
      "text/plain": [
       "np.float64(46.0)"
      ]
     },
     "execution_count": 20,
     "metadata": {},
     "output_type": "execute_result"
    }
   ],
   "source": [
    "np.ceil(r)"
   ]
  },
  {
   "cell_type": "code",
   "execution_count": 22,
   "id": "162bffb3-b321-4e60-a915-c19de5a936d4",
   "metadata": {},
   "outputs": [
    {
     "data": {
      "text/plain": [
       "75"
      ]
     },
     "execution_count": 22,
     "metadata": {},
     "output_type": "execute_result"
    }
   ],
   "source": [
    "z = np.random.randint(100)\n",
    "z"
   ]
  },
  {
   "cell_type": "code",
   "execution_count": 23,
   "id": "7772c44f-7edb-443e-b9cd-13a6e208ad0e",
   "metadata": {},
   "outputs": [
    {
     "data": {
      "text/plain": [
       "np.float64(75.0)"
      ]
     },
     "execution_count": 23,
     "metadata": {},
     "output_type": "execute_result"
    }
   ],
   "source": [
    "np.percentile(z, 75)"
   ]
  },
  {
   "cell_type": "code",
   "execution_count": 24,
   "id": "1a889f34-61ff-47e7-be63-b563af709663",
   "metadata": {},
   "outputs": [],
   "source": [
    "import pandas as pd"
   ]
  },
  {
   "cell_type": "code",
   "execution_count": 39,
   "id": "bc0f9a54-e3fb-40c7-8947-3c5f4c0e7ea1",
   "metadata": {},
   "outputs": [],
   "source": [
    "renewable_sources =[\"Solar\", \"Wind\", \"Hydro\", \"Biomass\", \"Geothermal\"]\n",
    "\n",
    "data={\n",
    "    \"Project\":['Solar Farm', 'Wind turbine', 'Hydropower', 'Solar Roof', 'Geothermal Plant'],\n",
    "    \"Technology\":['Solar','Wind','Hydro','Solar','Geothermal'],\n",
    "    \"Capacity (MW)\":[150,300,200,50,100],\n",
    "    \"Cost (millions $)\": [200,400,350,100,250],\n",
    "    \"Location\":[\"California\", \"Texas\", \"Washington\", \"Nevada\", \"chicago\"],\n",
    "    \"Completion Year\": [2023,2024,2022,2025,2023]\n",
    "}"
   ]
  },
  {
   "cell_type": "code",
   "execution_count": 40,
   "id": "75a66b44-a44d-4545-88ee-0f2be4acfa40",
   "metadata": {},
   "outputs": [
    {
     "name": "stdout",
     "output_type": "stream",
     "text": [
      "Renewable Energy SOurces are: \n",
      "0         Solar\n",
      "1          Wind\n",
      "2         Hydro\n",
      "3       Biomass\n",
      "4    Geothermal\n",
      "dtype: object\n"
     ]
    }
   ],
   "source": [
    "# create a pandas series for renewable energy sources\n",
    "renewable_series = pd.Series(renewable_sources)\n",
    "print(\"Renewable Energy SOurces are: \")\n",
    "print(renewable_series)"
   ]
  },
  {
   "cell_type": "code",
   "execution_count": 41,
   "id": "f245f8d6-3df0-4004-86fb-8c47ff774cba",
   "metadata": {},
   "outputs": [
    {
     "name": "stdout",
     "output_type": "stream",
     "text": [
      "Green Tech projects DataFrames: \n"
     ]
    },
    {
     "data": {
      "text/html": [
       "<div>\n",
       "<style scoped>\n",
       "    .dataframe tbody tr th:only-of-type {\n",
       "        vertical-align: middle;\n",
       "    }\n",
       "\n",
       "    .dataframe tbody tr th {\n",
       "        vertical-align: top;\n",
       "    }\n",
       "\n",
       "    .dataframe thead th {\n",
       "        text-align: right;\n",
       "    }\n",
       "</style>\n",
       "<table border=\"1\" class=\"dataframe\">\n",
       "  <thead>\n",
       "    <tr style=\"text-align: right;\">\n",
       "      <th></th>\n",
       "      <th>Project</th>\n",
       "      <th>Technology</th>\n",
       "      <th>Capacity (MW)</th>\n",
       "      <th>Cost (millions $)</th>\n",
       "      <th>Location</th>\n",
       "      <th>Completion Year</th>\n",
       "    </tr>\n",
       "  </thead>\n",
       "  <tbody>\n",
       "    <tr>\n",
       "      <th>0</th>\n",
       "      <td>Solar Farm</td>\n",
       "      <td>Solar</td>\n",
       "      <td>150</td>\n",
       "      <td>200</td>\n",
       "      <td>California</td>\n",
       "      <td>2023</td>\n",
       "    </tr>\n",
       "    <tr>\n",
       "      <th>1</th>\n",
       "      <td>Wind turbine</td>\n",
       "      <td>Wind</td>\n",
       "      <td>300</td>\n",
       "      <td>400</td>\n",
       "      <td>Texas</td>\n",
       "      <td>2024</td>\n",
       "    </tr>\n",
       "    <tr>\n",
       "      <th>2</th>\n",
       "      <td>Hydropower</td>\n",
       "      <td>Hydro</td>\n",
       "      <td>200</td>\n",
       "      <td>350</td>\n",
       "      <td>Washington</td>\n",
       "      <td>2022</td>\n",
       "    </tr>\n",
       "    <tr>\n",
       "      <th>3</th>\n",
       "      <td>Solar Roof</td>\n",
       "      <td>Solar</td>\n",
       "      <td>50</td>\n",
       "      <td>100</td>\n",
       "      <td>Nevada</td>\n",
       "      <td>2025</td>\n",
       "    </tr>\n",
       "    <tr>\n",
       "      <th>4</th>\n",
       "      <td>Geothermal Plant</td>\n",
       "      <td>Geothermal</td>\n",
       "      <td>100</td>\n",
       "      <td>250</td>\n",
       "      <td>chicago</td>\n",
       "      <td>2023</td>\n",
       "    </tr>\n",
       "  </tbody>\n",
       "</table>\n",
       "</div>"
      ],
      "text/plain": [
       "            Project  Technology  Capacity (MW)  Cost (millions $)    Location  \\\n",
       "0        Solar Farm       Solar            150                200  California   \n",
       "1      Wind turbine        Wind            300                400       Texas   \n",
       "2        Hydropower       Hydro            200                350  Washington   \n",
       "3        Solar Roof       Solar             50                100      Nevada   \n",
       "4  Geothermal Plant  Geothermal            100                250     chicago   \n",
       "\n",
       "   Completion Year  \n",
       "0             2023  \n",
       "1             2024  \n",
       "2             2022  \n",
       "3             2025  \n",
       "4             2023  "
      ]
     },
     "execution_count": 41,
     "metadata": {},
     "output_type": "execute_result"
    }
   ],
   "source": [
    "# create a dataframe green technology projects\n",
    "df = pd.DataFrame(data)\n",
    "print(\"Green Tech projects DataFrames: \")\n",
    "df"
   ]
  },
  {
   "cell_type": "code",
   "execution_count": 42,
   "id": "dc27be2b-e943-4ad3-8263-cbb730103fcb",
   "metadata": {},
   "outputs": [
    {
     "data": {
      "text/plain": [
       "0          Solar Farm\n",
       "1        Wind turbine\n",
       "2          Hydropower\n",
       "3          Solar Roof\n",
       "4    Geothermal Plant\n",
       "Name: Project, dtype: object"
      ]
     },
     "execution_count": 42,
     "metadata": {},
     "output_type": "execute_result"
    }
   ],
   "source": [
    "df['Project']"
   ]
  },
  {
   "cell_type": "code",
   "execution_count": 43,
   "id": "1d68ab4b-1418-4047-920f-e0035834e00a",
   "metadata": {},
   "outputs": [
    {
     "data": {
      "text/plain": [
       "0    California\n",
       "1         Texas\n",
       "2    Washington\n",
       "3        Nevada\n",
       "4       chicago\n",
       "Name: Location, dtype: object"
      ]
     },
     "execution_count": 43,
     "metadata": {},
     "output_type": "execute_result"
    }
   ],
   "source": [
    "df['Location']"
   ]
  },
  {
   "cell_type": "code",
   "execution_count": 46,
   "id": "ed5e2fe8-f3d3-43ce-81e2-377669a98e62",
   "metadata": {},
   "outputs": [
    {
     "data": {
      "text/html": [
       "<div>\n",
       "<style scoped>\n",
       "    .dataframe tbody tr th:only-of-type {\n",
       "        vertical-align: middle;\n",
       "    }\n",
       "\n",
       "    .dataframe tbody tr th {\n",
       "        vertical-align: top;\n",
       "    }\n",
       "\n",
       "    .dataframe thead th {\n",
       "        text-align: right;\n",
       "    }\n",
       "</style>\n",
       "<table border=\"1\" class=\"dataframe\">\n",
       "  <thead>\n",
       "    <tr style=\"text-align: right;\">\n",
       "      <th></th>\n",
       "      <th>Project</th>\n",
       "      <th>Technology</th>\n",
       "      <th>Capacity (MW)</th>\n",
       "      <th>Cost (millions $)</th>\n",
       "      <th>Location</th>\n",
       "      <th>Completion Year</th>\n",
       "    </tr>\n",
       "  </thead>\n",
       "  <tbody>\n",
       "    <tr>\n",
       "      <th>0</th>\n",
       "      <td>Solar Farm</td>\n",
       "      <td>Solar</td>\n",
       "      <td>150</td>\n",
       "      <td>200</td>\n",
       "      <td>California</td>\n",
       "      <td>2023</td>\n",
       "    </tr>\n",
       "    <tr>\n",
       "      <th>1</th>\n",
       "      <td>Wind turbine</td>\n",
       "      <td>Wind</td>\n",
       "      <td>300</td>\n",
       "      <td>400</td>\n",
       "      <td>Texas</td>\n",
       "      <td>2024</td>\n",
       "    </tr>\n",
       "    <tr>\n",
       "      <th>2</th>\n",
       "      <td>Hydropower</td>\n",
       "      <td>Hydro</td>\n",
       "      <td>200</td>\n",
       "      <td>350</td>\n",
       "      <td>Washington</td>\n",
       "      <td>2022</td>\n",
       "    </tr>\n",
       "  </tbody>\n",
       "</table>\n",
       "</div>"
      ],
      "text/plain": [
       "        Project Technology  Capacity (MW)  Cost (millions $)    Location  \\\n",
       "0    Solar Farm      Solar            150                200  California   \n",
       "1  Wind turbine       Wind            300                400       Texas   \n",
       "2    Hydropower      Hydro            200                350  Washington   \n",
       "\n",
       "   Completion Year  \n",
       "0             2023  \n",
       "1             2024  \n",
       "2             2022  "
      ]
     },
     "execution_count": 46,
     "metadata": {},
     "output_type": "execute_result"
    }
   ],
   "source": [
    "# Want to print only high capacity projects (>100 MW)\n",
    "hcp = df[df['Capacity (MW)'] >100]\n",
    "hcp"
   ]
  },
  {
   "cell_type": "code",
   "execution_count": 49,
   "id": "e0ad5df5-b006-4a25-b694-ac13a518e7a4",
   "metadata": {},
   "outputs": [
    {
     "data": {
      "text/html": [
       "<div>\n",
       "<style scoped>\n",
       "    .dataframe tbody tr th:only-of-type {\n",
       "        vertical-align: middle;\n",
       "    }\n",
       "\n",
       "    .dataframe tbody tr th {\n",
       "        vertical-align: top;\n",
       "    }\n",
       "\n",
       "    .dataframe thead th {\n",
       "        text-align: right;\n",
       "    }\n",
       "</style>\n",
       "<table border=\"1\" class=\"dataframe\">\n",
       "  <thead>\n",
       "    <tr style=\"text-align: right;\">\n",
       "      <th></th>\n",
       "      <th>Project</th>\n",
       "      <th>Technology</th>\n",
       "      <th>Capacity (MW)</th>\n",
       "      <th>Cost (millions $)</th>\n",
       "      <th>Location</th>\n",
       "      <th>Completion Year</th>\n",
       "      <th>Cost per MW</th>\n",
       "    </tr>\n",
       "  </thead>\n",
       "  <tbody>\n",
       "    <tr>\n",
       "      <th>0</th>\n",
       "      <td>Solar Farm</td>\n",
       "      <td>Solar</td>\n",
       "      <td>150</td>\n",
       "      <td>200</td>\n",
       "      <td>California</td>\n",
       "      <td>2023</td>\n",
       "      <td>1.333333</td>\n",
       "    </tr>\n",
       "    <tr>\n",
       "      <th>1</th>\n",
       "      <td>Wind turbine</td>\n",
       "      <td>Wind</td>\n",
       "      <td>300</td>\n",
       "      <td>400</td>\n",
       "      <td>Texas</td>\n",
       "      <td>2024</td>\n",
       "      <td>1.333333</td>\n",
       "    </tr>\n",
       "    <tr>\n",
       "      <th>2</th>\n",
       "      <td>Hydropower</td>\n",
       "      <td>Hydro</td>\n",
       "      <td>200</td>\n",
       "      <td>350</td>\n",
       "      <td>Washington</td>\n",
       "      <td>2022</td>\n",
       "      <td>1.750000</td>\n",
       "    </tr>\n",
       "    <tr>\n",
       "      <th>3</th>\n",
       "      <td>Solar Roof</td>\n",
       "      <td>Solar</td>\n",
       "      <td>50</td>\n",
       "      <td>100</td>\n",
       "      <td>Nevada</td>\n",
       "      <td>2025</td>\n",
       "      <td>2.000000</td>\n",
       "    </tr>\n",
       "    <tr>\n",
       "      <th>4</th>\n",
       "      <td>Geothermal Plant</td>\n",
       "      <td>Geothermal</td>\n",
       "      <td>100</td>\n",
       "      <td>250</td>\n",
       "      <td>chicago</td>\n",
       "      <td>2023</td>\n",
       "      <td>2.500000</td>\n",
       "    </tr>\n",
       "  </tbody>\n",
       "</table>\n",
       "</div>"
      ],
      "text/plain": [
       "            Project  Technology  Capacity (MW)  Cost (millions $)    Location  \\\n",
       "0        Solar Farm       Solar            150                200  California   \n",
       "1      Wind turbine        Wind            300                400       Texas   \n",
       "2        Hydropower       Hydro            200                350  Washington   \n",
       "3        Solar Roof       Solar             50                100      Nevada   \n",
       "4  Geothermal Plant  Geothermal            100                250     chicago   \n",
       "\n",
       "   Completion Year  Cost per MW  \n",
       "0             2023     1.333333  \n",
       "1             2024     1.333333  \n",
       "2             2022     1.750000  \n",
       "3             2025     2.000000  \n",
       "4             2023     2.500000  "
      ]
     },
     "execution_count": 49,
     "metadata": {},
     "output_type": "execute_result"
    }
   ],
   "source": [
    "# add new col\n",
    "df[\"Cost per MW\"] = df[\"Cost (millions $)\"] / df['Capacity (MW)']\n",
    "df"
   ]
  },
  {
   "cell_type": "code",
   "execution_count": 53,
   "id": "416426c0-0e51-405e-8759-08e43eec9c36",
   "metadata": {},
   "outputs": [
    {
     "name": "stdout",
     "output_type": "stream",
     "text": [
      "The total capacity of all the projects are:  800 MW\n",
      "The total cost of  the projects are:  1300 $\n"
     ]
    }
   ],
   "source": [
    "# Aggregation\n",
    "total_capacity = df['Capacity (MW)'].sum()\n",
    "total_cost = df['Cost (millions $)'].sum()\n",
    "print(\"The total capacity of all the projects are: \",total_capacity, \"MW\")\n",
    "print(\"The total cost of  the projects are: \",total_cost, \"$\")"
   ]
  },
  {
   "cell_type": "code",
   "execution_count": 60,
   "id": "bfdbd3a2-d4ca-4baf-9099-91ea32c710db",
   "metadata": {},
   "outputs": [
    {
     "data": {
      "text/plain": [
       "Technology\n",
       "Geothermal    100\n",
       "Hydro         200\n",
       "Solar         200\n",
       "Wind          300\n",
       "Name: Capacity (MW), dtype: int64"
      ]
     },
     "execution_count": 60,
     "metadata": {},
     "output_type": "execute_result"
    }
   ],
   "source": [
    "# Grouping of data\n",
    "grouped_data = df.groupby(\"Technology\")[\"Capacity (MW)\"].sum()\n",
    "grouped_data"
   ]
  },
  {
   "cell_type": "code",
   "execution_count": null,
   "id": "0c233e8e-a485-4bb4-b7ea-de2b2a1fa5e2",
   "metadata": {},
   "outputs": [],
   "source": []
  }
 ],
 "metadata": {
  "kernelspec": {
   "display_name": "Python 3 (ipykernel)",
   "language": "python",
   "name": "python3"
  },
  "language_info": {
   "codemirror_mode": {
    "name": "ipython",
    "version": 3
   },
   "file_extension": ".py",
   "mimetype": "text/x-python",
   "name": "python",
   "nbconvert_exporter": "python",
   "pygments_lexer": "ipython3",
   "version": "3.13.2"
  }
 },
 "nbformat": 4,
 "nbformat_minor": 5
}
